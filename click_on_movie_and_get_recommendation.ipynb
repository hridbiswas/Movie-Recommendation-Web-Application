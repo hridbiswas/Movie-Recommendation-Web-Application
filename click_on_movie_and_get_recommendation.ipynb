{
 "cells": [
  {
   "cell_type": "code",
   "execution_count": 9,
   "metadata": {},
   "outputs": [],
   "source": [
    "from werkzeug.wrappers import Request, Response\n",
    "from flask import Flask,render_template,url_for,request\n",
    "import numpy as np\n",
    "\n",
    "#for loading model\n",
    "import pickle\n",
    "import pandas as pd\n"
   ]
  },
  {
   "cell_type": "code",
   "execution_count": 10,
   "metadata": {},
   "outputs": [],
   "source": [
    "app=Flask(__name__)"
   ]
  },
  {
   "cell_type": "code",
   "execution_count": 11,
   "metadata": {},
   "outputs": [],
   "source": [
    "indices=pd.read_pickle(\"./indices.pkl\")\n",
    "metadata=pd.read_pickle(\"./metadata.pkl\")\n",
    "cosine_sim=np.load(\"cosine_sim.npy\")"
   ]
  },
  {
   "cell_type": "code",
   "execution_count": 12,
   "metadata": {},
   "outputs": [],
   "source": [
    "@app.route(\"/\", methods=['GET', 'POST'])\n",
    "def index():\n",
    "    return render_template(\"movie_recom_2.html\")"
   ]
  },
  {
   "cell_type": "code",
   "execution_count": 13,
   "metadata": {},
   "outputs": [],
   "source": [
    "@app.route(\"/profile\")\n",
    "def profile():\n",
    "    return render_template(\"profile.html\")"
   ]
  },
  {
   "cell_type": "code",
   "execution_count": 14,
   "metadata": {},
   "outputs": [],
   "source": [
    "@app.route(\"/gallery\")\n",
    "def gallery():\n",
    "    return render_template(\"gallery.html\")"
   ]
  },
  {
   "cell_type": "code",
   "execution_count": 15,
   "metadata": {},
   "outputs": [],
   "source": [
    "@app.route('/recommended_movies', methods=['POST'])\n",
    "def recommend():\n",
    "    if request.method=='POST':\n",
    "        movie_name = request.form.get('fname')\n",
    "        def get_recommendations(title, cosine_sim=cosine_sim):\n",
    "            idx = indices[title]\n",
    "            sim_scores = list(enumerate(cosine_sim[idx]))\n",
    "            sim_scores = sorted(sim_scores, key=lambda x: x[1], reverse=True)\n",
    "            sim_scores = sim_scores[1:6]\n",
    "            movie_indices = [i[0] for i in sim_scores]\n",
    "            return metadata['title'].iloc[movie_indices]\n",
    "    \n",
    "        \n",
    "        \n",
    "        prediction=get_recommendations(movie_name)\n",
    "        pred=prediction.to_frame() #now it is panda frame\n",
    "        pred.set_index('title',inplace=True) #index changeg\n",
    "        predic=pred\n",
    "        \n",
    "        \n",
    "        #return render_template('input_moviename.html', label=predic.to_html())\n",
    "        return render_template('recommended_movies.html', label=predic.to_html())"
   ]
  },
  {
   "cell_type": "code",
   "execution_count": null,
   "metadata": {},
   "outputs": [
    {
     "name": "stderr",
     "output_type": "stream",
     "text": [
      " * Running on http://localhost:5000/ (Press CTRL+C to quit)\n",
      "127.0.0.1 - - [11/Sep/2018 22:39:05] \"\u001b[37mGET / HTTP/1.1\u001b[0m\" 200 -\n",
      "127.0.0.1 - - [11/Sep/2018 22:39:13] \"\u001b[37mGET /gallery HTTP/1.1\u001b[0m\" 200 -\n",
      "127.0.0.1 - - [11/Sep/2018 22:39:14] \"\u001b[37mGET /static/images/Apollo%2013.jpg HTTP/1.1\u001b[0m\" 200 -\n",
      "127.0.0.1 - - [11/Sep/2018 22:39:14] \"\u001b[37mGET /static/images/Batman%20Forever.jpg HTTP/1.1\u001b[0m\" 200 -\n",
      "127.0.0.1 - - [11/Sep/2018 22:39:15] \"\u001b[37mGET /static/images/Battleship.jpg HTTP/1.1\u001b[0m\" 200 -\n",
      "127.0.0.1 - - [11/Sep/2018 22:39:15] \"\u001b[37mGET /static/images/Pulp%20Fiction.jpg HTTP/1.1\u001b[0m\" 200 -\n",
      "127.0.0.1 - - [11/Sep/2018 22:39:15] \"\u001b[37mGET /static/images/The%20Dark%20Knight%20Rises.jpg HTTP/1.1\u001b[0m\" 200 -\n",
      "127.0.0.1 - - [11/Sep/2018 22:39:15] \"\u001b[37mGET /static/images/Phantom%20Lady.jpg HTTP/1.1\u001b[0m\" 200 -\n",
      "127.0.0.1 - - [11/Sep/2018 22:39:15] \"\u001b[37mGET /static/images/Se7en.jpg HTTP/1.1\u001b[0m\" 200 -\n",
      "127.0.0.1 - - [11/Sep/2018 22:39:15] \"\u001b[37mGET /static/images/Love%20Comes%20Softly.jpg HTTP/1.1\u001b[0m\" 200 -\n",
      "127.0.0.1 - - [11/Sep/2018 22:39:15] \"\u001b[37mGET /static/images/Grumpier%20Old%20Men.jpg HTTP/1.1\u001b[0m\" 200 -\n",
      "127.0.0.1 - - [11/Sep/2018 22:39:15] \"\u001b[37mGET /static/images/Star%20Wars.jpg HTTP/1.1\u001b[0m\" 200 -\n",
      "127.0.0.1 - - [11/Sep/2018 22:39:15] \"\u001b[37mGET /static/images/The%20American%20President.jpg HTTP/1.1\u001b[0m\" 200 -\n",
      "127.0.0.1 - - [11/Sep/2018 22:39:15] \"\u001b[37mGET /static/images/Toy%20Story.jpg HTTP/1.1\u001b[0m\" 200 -\n",
      "127.0.0.1 - - [11/Sep/2018 22:39:21] \"\u001b[37mPOST /recommended_movies HTTP/1.1\u001b[0m\" 200 -\n",
      "127.0.0.1 - - [11/Sep/2018 22:40:30] \"\u001b[37mGET / HTTP/1.1\u001b[0m\" 200 -\n",
      "127.0.0.1 - - [11/Sep/2018 22:40:50] \"\u001b[37mGET / HTTP/1.1\u001b[0m\" 200 -\n",
      "127.0.0.1 - - [11/Sep/2018 22:40:50] \"\u001b[37mGET /static/styles.css HTTP/1.1\u001b[0m\" 200 -\n",
      "127.0.0.1 - - [11/Sep/2018 22:40:51] \"\u001b[37mGET /static/images/1.jpg HTTP/1.1\u001b[0m\" 200 -\n",
      "127.0.0.1 - - [11/Sep/2018 22:40:51] \"\u001b[37mGET /static/images/2.jpg HTTP/1.1\u001b[0m\" 200 -\n",
      "127.0.0.1 - - [11/Sep/2018 22:40:52] \"\u001b[37mGET /static/images/3.jpg HTTP/1.1\u001b[0m\" 200 -\n",
      "127.0.0.1 - - [11/Sep/2018 22:40:52] \"\u001b[37mGET /static/images/4.jpg HTTP/1.1\u001b[0m\" 200 -\n",
      "127.0.0.1 - - [11/Sep/2018 22:40:52] \"\u001b[33mGET /favicon.ico HTTP/1.1\u001b[0m\" 404 -\n",
      "127.0.0.1 - - [11/Sep/2018 22:41:58] \"\u001b[37mGET / HTTP/1.1\u001b[0m\" 200 -\n",
      "127.0.0.1 - - [11/Sep/2018 22:42:06] \"\u001b[37mGET /gallery HTTP/1.1\u001b[0m\" 200 -\n",
      "127.0.0.1 - - [11/Sep/2018 22:42:08] \"\u001b[37mPOST /recommended_movies HTTP/1.1\u001b[0m\" 200 -\n"
     ]
    }
   ],
   "source": [
    "if __name__ == \"__main__\":\n",
    "    #indices=pd.read_pickle(\"./indices.pkl\")\n",
    "    #metadata=pd.read_pickle(\"./metadata.pkl\")\n",
    "    #cosine_sim=np.load(\"cosine_sim.npy\")\n",
    "   \n",
    "    from werkzeug.serving import run_simple\n",
    "    run_simple('localhost', 5000, app)"
   ]
  },
  {
   "cell_type": "code",
   "execution_count": null,
   "metadata": {},
   "outputs": [],
   "source": []
  },
  {
   "cell_type": "code",
   "execution_count": null,
   "metadata": {},
   "outputs": [],
   "source": []
  }
 ],
 "metadata": {
  "kernelspec": {
   "display_name": "Python 3",
   "language": "python",
   "name": "python3"
  },
  "language_info": {
   "codemirror_mode": {
    "name": "ipython",
    "version": 3
   },
   "file_extension": ".py",
   "mimetype": "text/x-python",
   "name": "python",
   "nbconvert_exporter": "python",
   "pygments_lexer": "ipython3",
   "version": "3.5.4"
  }
 },
 "nbformat": 4,
 "nbformat_minor": 2
}
